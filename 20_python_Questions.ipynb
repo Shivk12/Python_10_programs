{
 "cells": [
  {
   "cell_type": "markdown",
   "id": "cd853b79",
   "metadata": {},
   "source": [
    "# 1.User will input (3ages).Find the oldest one"
   ]
  },
  {
   "cell_type": "code",
   "execution_count": 22,
   "id": "fa72e4aa",
   "metadata": {},
   "outputs": [
    {
     "name": "stdout",
     "output_type": "stream",
     "text": [
      "Enter first person age 1\n",
      "Enter Second person age 1\n",
      "Enter Third person age 1\n",
      "all three person having same age group\n"
     ]
    }
   ],
   "source": [
    "a=int(input('Enter first person age '))\n",
    "b=int(input('Enter Second person age '))\n",
    "c=int(input('Enter Third person age '))\n",
    "if a>b>c:\n",
    "    print('First person is olders',a)\n",
    "elif b>a>c:\n",
    "    print('Second person is olders',b)\n",
    "elif a==b==c:\n",
    "    print('all three person having same age group')\n",
    "else:\n",
    "    print('Third person is olders',c)\n",
    "    \n",
    "\n",
    "    "
   ]
  },
  {
   "cell_type": "markdown",
   "id": "d2375391",
   "metadata": {},
   "source": [
    "# 2.\tWrite a program that will convert celsius value to fahrenheit\n",
    "\n",
    "<img src=\"https://d138zd1ktt9iqe.cloudfront.net/media/seo_landing_files/c-to-f-formula-1638963368.png\" alt=\"celsious to fahrenheit\">"
   ]
  },
  {
   "cell_type": "code",
   "execution_count": 26,
   "id": "6f79cb07",
   "metadata": {},
   "outputs": [
    {
     "name": "stdout",
     "output_type": "stream",
     "text": [
      "Enter the value of temprature in celsius 5\n",
      "celsius temprature in fahrenheit is 41.0\n"
     ]
    }
   ],
   "source": [
    "c=float(input('Enter the value of temprature in celsius '))\n",
    "f=c*(9/5)+32\n",
    "print('celsius temprature in fahrenheit is',f)"
   ]
  },
  {
   "cell_type": "markdown",
   "id": "30345340",
   "metadata": {},
   "source": [
    "# 3.\tUser will input (2numbers).Write a program to swap the numbers"
   ]
  },
  {
   "cell_type": "code",
   "execution_count": 34,
   "id": "ca3a27a9",
   "metadata": {},
   "outputs": [
    {
     "name": "stdout",
     "output_type": "stream",
     "text": [
      "Enter first number1\n",
      "Enter Second number2\n",
      "2\n",
      "1\n"
     ]
    }
   ],
   "source": [
    "a=int(input('Enter first number'))\n",
    "b=int(input('Enter Second number'))\n",
    "c=a\n",
    "a=b\n",
    "b=c\n",
    "print(a)\n",
    "print(b)\n"
   ]
  },
  {
   "cell_type": "markdown",
   "id": "dce5204c",
   "metadata": {},
   "source": [
    "# 4.\tWrite a program that will give you the sum of 3 digits"
   ]
  },
  {
   "cell_type": "code",
   "execution_count": 37,
   "id": "580a22d0",
   "metadata": {},
   "outputs": [
    {
     "name": "stdout",
     "output_type": "stream",
     "text": [
      "enter first number 1\n",
      "enter second number 2\n",
      "enter third number 3\n",
      "sum of all three number is 6\n"
     ]
    }
   ],
   "source": [
    "a=int(input('enter first number '))\n",
    "b=int(input('enter second number '))\n",
    "c=int(input('enter third number '))\n",
    "s=a+b+c\n",
    "print('sum of all three number is',s)\n",
    "\n",
    "\n"
   ]
  },
  {
   "cell_type": "markdown",
   "id": "0da6dd89",
   "metadata": {},
   "source": [
    "# 5.\tWrite a program that will reverse a four digit number.Also it checks whether the reverse is true."
   ]
  },
  {
   "cell_type": "code",
   "execution_count": 39,
   "id": "0181ac56",
   "metadata": {},
   "outputs": [
    {
     "name": "stdout",
     "output_type": "stream",
     "text": [
      "2654\n"
     ]
    }
   ],
   "source": [
    "n = 4562\n",
    "rev = 0\n",
    " \n",
    "while(n > 0):\n",
    "    a = n % 10\n",
    "    rev = rev * 10 + a\n",
    "    n = n // 10\n",
    "print(rev)"
   ]
  },
  {
   "cell_type": "markdown",
   "id": "2b5265cb",
   "metadata": {},
   "source": [
    "# 6.\tWrite a program that will tell whether the number entered by the user is odd or even."
   ]
  },
  {
   "cell_type": "code",
   "execution_count": 12,
   "id": "747bed7d",
   "metadata": {},
   "outputs": [
    {
     "name": "stdout",
     "output_type": "stream",
     "text": [
      "Enter any Number 31\n",
      "Number is Odd \n"
     ]
    }
   ],
   "source": [
    "a=float(input('Enter any Number '))\n",
    "if a%2==0:\n",
    "    print('Number is Even')\n",
    "else:\n",
    "    print('Number is Odd ')\n",
    "\n"
   ]
  },
  {
   "cell_type": "markdown",
   "id": "5856b1cf",
   "metadata": {},
   "source": [
    "# 7.\tWrite a program that will tell whether the given year is a leap year or not."
   ]
  },
  {
   "cell_type": "code",
   "execution_count": 28,
   "id": "7bb29147",
   "metadata": {},
   "outputs": [
    {
     "name": "stdout",
     "output_type": "stream",
     "text": [
      "Enter any year 2000\n",
      "Given year is leap year\n"
     ]
    }
   ],
   "source": [
    "a=int(input('Enter any year '))\n",
    "if a%4==0:\n",
    "    if a%100==0:\n",
    "        if a%400==0:\n",
    "            print('Given year is leap year')\n",
    "        else:\n",
    "            print('Given year is not a Leap year ')\n",
    "    else:\n",
    "        print('Given year is a Leap year')\n",
    "else:\n",
    "    print(' Givn year is not a Leap year')"
   ]
  },
  {
   "cell_type": "markdown",
   "id": "40c8bb37",
   "metadata": {},
   "source": [
    "# 8.\tWrite a program to find the euclidean distance between two coordinates.\n",
    "<img src=\"data:image/jpeg;base64,/9j/4AAQSkZJRgABAQAAAQABAAD/2wCEAAoHCBURFRYSEhUSEhISFhoSGBkYGhoRGA8YGhkfGRgYGBocIy4lHB4rHxkYJjgmKy8xNTU1HCQ7QDszPy40NTEBDAwMEA8QHhISGjQmJSc/NDE0MTE0NDQxNDQxPz80MTY/NDg1NDE0Nj8xNDE0NzQxMT80NDE0ND8xNDYxMTQxMf/AABEIAO0A1QMBIgACEQEDEQH/xAAcAAACAgMBAQAAAAAAAAAAAAAAAgEDBAcIBQb/xABJEAABAgIGBgUHCQcEAgMAAAABAAIDEQQSITFRYSIyQVJx8BNicoGRBQcXQlOS0hRDVIKToaKx0QYzNbKzwcIVJWPhIyQWc/H/xAAYAQEBAQEBAAAAAAAAAAAAAAAAAQIDBP/EACMRAQEBAAICAwABBQAAAAAAAAABEQISAzETIUHxUWGBseH/2gAMAwEAAhEDEQA/ANMqVnUCEHNcS2sQWgWOdKc52NIwFqBQgZGZAdVkSLCXXgYyXSeO2Sz9TtJWAhelCojSXCThIAisCCLDOwG25AoIkBMzc5gmRIScCTIz0tivxVO8eahekKAK0puOrYBpCZImchL7wq4tFa0EgmsAXbJSD6njcVL47Jp2jBQvRhwGlgJbYQ4l1uiRq5ZSzUGiCqXW2BrrBZa1pNp223T7k+O5p2jz0L1XUFpcQKwE5CQnVk0Om6ewzs4Kr5GDVkSCSwGcpabawl4EK3xcodo89C9FlBBBM3NlsItFk5kYf9quiNbJznAWFoEwXATnsBGCnS7Jf07RhIXoMoINWZcAZTMrDNpdomdspSKhlGYRWJfKRdsuDqsuNoT46dowELO+Ra1pIaXtJlYKrZtnhM2K2JQWyJFaxpdYJtbJgMicSU+Pkdo8xCELm0FIQvY/Zgn5RDDITY73GqxryQ1rjc50rwLT3K/U+7chdz6m1HkTyM6kl5J6OFBaYkV5BdUaATYBaSZGQXo/tT5Io1HhwHUd8R7owL5ulayQkashK0/cVs6l0sQ2xdKG6LBhV3gmTQapLa21rSWnOS0t5U8oxKTEMSK6s42YBoFwA2AYLtfjnjl43d/Xk8fPy8/Je0zPrFsTyLSG1a0GIK0pTaROsQ1o4kkCWYQPI1Ikw9DFlEJDZNJrEAkgDGTXHuOC9Jv7USe6J0EIuiEPfa/TiNcHtfrWScJyFhme6X/tbGLGiqys0FpM3APBY+GJtBlYHkzxAznz5TjJc9u3G+TtNkz9ec/yDSWlrTAihzyWNFU6RArGXdMzukCdhV8H9mKU4gGE5k3dHNwIqvqVwCACbRKVl5ATUf8AaR7AWlkNzXNYxwNYV2sgGBIkGYm0zmNuVis/+UPnWEKEJOa5o0pQ6sEQZDStFUC+doXlt83qSf8AXqk8f9a8Wl0V8FxhxGuY8Sm11hExMfcQhPT6a6MWkgCpDZCEp2hjQ0E52IXads+2PpjNcRcSOFiWaEKsprHEqJoQgmsomhCCZ7NiiaEICaJoQgmZ8fvUIQgJomhCCZqJoQgEIQgFl0GmxIDq8JxhvkW1hKYDhIyOwy2i1YiE9zKsuMx3lGKWOh13Fj3dI4E67sXG896w5oQiYEIQgEIQgEIQgEIQgE8NlZwF0yBwmkVlH128R+aDazfMs4gH5a20T/cn41I8yzvprfsT8a3DDubwHNyYbLTs5uWsjHatNt8y7iAflrbQD+5O0T31PoWd9Nb9ifjW4IGq2/VH8vBM60G/xOSZDtWlPJ/mjFIZ0sOnMcwuewEQiZljyw+vi0rK9CrvprfsT8a2SaCG0Z8OjsDNMuaxga0OLYoMpEtEiGgG0WLM8kwHw4TWxCDEc50R9UktD4j3PcGztkC6QyCYdq1Q3zLuM/8A3W2GX7k/Gp9CzvprfsT8a3BD2363OxN48jgmQ7Vpv0MPtlTWWGX7o4A7+an0LP8AprPsnfEtwsvdfrf4tyT7eceCZDtWmh5l3zl8tZcD+6dtn1slPoWf9NZ9k74luFt+24fm7JN3nkcEyHatNehd85fLWXT/AHTsutmm9Cz/AKaz7J3xLcJ1hfqn+2SY7bTzLJMh2rTZ8y75gfLWWz+ad8Sn0LP+ms+yd8S3E7WF+38xkpHfs5uTIdq007zMPEv/AHWW/wDE7Ce9kj0LRPpkP7N3xLcbzq8c90pp824JkO1aJ/aHzWvoVHi0o0lkQQWhxaGFpdNwbeXWay1wul/OUf8AbKX2G4+0YuaFK1xuhCEKKEIQgEIQgFbR9Zvab+aqVlH128R+aDrWG50hYLh6x/RMHus0Rs9Y/oph3N4DFMNndituaiC51Vtg1R6x3eCsru3R7xyyRA1W9kY7qfnbkgxKG51S4a8T1jvnJZFd26PeOJyVdC1Prvx3yr+duJQUw3Ot0Rrbx/RNWduj3jhwUw9vazT87cEFDHOm7RF+8d1uSsrPnqj3jjwQwWu7We61PK3/APcUFTXPnqi4bTi7JTWfujxOHBM0W9wxxcplzbggqLnVhojVO05ZJy59uiPeOWSCNIdk45JiL/8AvJBU5z6w0Rt2nEZJw5+6NnrH9FLhpDvxxCkD+2KCtznTbo7cTulPWdu/fkh41eP+JUyy5lxQfL+ckn/TKXMS0G7f+Ri5qXS3nLH+2UvsN/qMXNKla4+ghCFloIQhAIQhAKyA6Tmk3Ag/eq0zLxxQdbseZDRdcNz4kwed12zc+JSw2DgNuakHmfFbc1MF5qt0Xao3N3tJy87rvwZdZNDOiOyNvVUk8z4IMWhvNTVdrv3N89ZZFY7jvwY9pV0I6H137euVfPmeZQUQ3m3RdrdT4k9c7rvwYdpTD29rFNPmeSClrzN2g6/qbrRvKyudx34Me0pbe7tY5BNPmeaClrzPUdcNzF3WTVzuO/Bh2lLTpHg3bm5NPmeSCkvNYaDtU7mXWTl53Hfg+JSTpDsnb2VgimO+UOhEipaBaJg1WvxntdbKVwnNLca48by3Pyay3PNYaDtu5j2kwedx2zc+JeefKJaK7hWnGfCa0ENLar3MBcTeCWgk7A7Jek6IBYTbKtKYmQLyB4eKml4cp7VueZt0HX9TdPWT1zuu/BhxWJR6X0zZsIbIgTmHgOMKtsvlWA7ldQY5iQ2RDIF7GuMrploNmSul4Wbv4+d85D5+TKXokaDd32jMCua10t5yz/tlL7Df6jFzSpTj6CEIWWghCEAhCEAmZeOKVMy8cUHXDIgkNa4eq/8ARMIg63uvzyQwWDgMcVIHNua25q4cQVRrao9V+7wTmIOt7r8skQxojsjHdUkc25IMahxBU9bXf6r985LI6Qdb3X48FVQhofXiY75V8ubcSgphxBbra26/9E/SDre6/DgiGL+1mmlzbggRsQTdra26/AZJukHW91+PBDRa7tZ4BMBlzPigqbEFY61zfVfi7JN0g63uvw4IaNI2bG/m7NNLI8jigqMQVhrap9V/VyTl4tMnT7L8eCCNIWHVP+OaqpMctNRgrRHCYBnJonrOwb+ZsCLxltyPK8r+W2UWLCYIT3upD5EtFU3hoJBE3G6zBuS9SDDa2Z0ySSZ1XCVa0gSaJCweAnMqYFHDDtc9xm9xFrzdjYMBsV44HZzerbLJJMv7/c2y3LsYLqIzQbVNQF02lrnCJXYQ6sXNJM+Nu2azA8CwVpAYOss4Ife2zb/gc00sjyOKhbb7r5fzkun5Mpd+o3Y4fOMxC5qXS/nL/hlL7Df6jFzQs1ePoIQhRoIQhAIQhAJmXjilTMvHFB1wx7ZDgNhxUiI3kHNSy4cBhipHN2a25q4b21R2RsO6m6RvIOSmHqjsjDdUnm7JBi0N7an137DvlZHSN5BxKroWp9d+G+VfzsxKCmHEbb2sCn6RvIOCIe3tZJudmCBGRBN3a4bAmrjEclQ293aywCcc3YoKmvFY2i5v5uT1xiOQobrHg3DFyppNIIPRwwHRHCYB1WCUq75bMrybBtILJeVyKqTSpODIcnRHNMgdVgs03yuFh4kSG2VtHhtYDpVnutc43vP9hgBYEUeAIZvrOcCXOMpvOjacBgLgFkHm7FF5cpJk/kjniYtG380weMRsQ68d+GKkfpgjCt7xNtov/wACmrjEfdgh97eOW4U3OzBFfL+cl4Pkyl2+o3D2jFzUul/OV/DKX2G4e0YuaFK3x9BCELKhCEIBCEIBMy8cUqZl44oOuWRGyGk24bRigRG7zfEZqWGwWm4fmmBzPjxyW3NVDiNqjSbqjaN1MYjd5viMlMM6ItOqP5UxOZ8eGSDFocRtTWbrxNo3ysjpG7zfEYlVUI6F514n85yV88z45nJBVDiNt0m62IT9I3eb4jBRDN9p1udiaeZ8cuCBGxGzdpN1sRgEwiN3m+IxUNNru1ng1U0mkkODGSdEcJ2zqw2z135WWC8nvILJbciqPSpOqQ6rnua2UzosE3Te/LK8+JFtGhshg6Qc52k5xIrPMrz+QFwFgRRIAhkgEuc4Nc5x1num60/cJXAAALInzbgi2yTJ6/2rMRtYaTdU7R1U5iN3m+IxUE6Q7Jx6qYnm3FGSOiNmNJu3aMUwiN3m7NoQ46Q78cVIP9sUFb4jZt0m34jcKfpG7w94YKHm1vHPcKaXNuCD5fzlPB8mUsBwOg3bP5xi5qXS/nKH+2UvsNx9oxc0LNb4+ghCFFCEIQCEIQCZl44pUzLxxQddsuHAY4qRzfmq2QWyGi24eqMVIgt3W+6M1tzTD1R2RjupjzfkqYcFtUaLdUeqN1OYLd1vujJBXQtT678d8q/nbiViUOC2pqt14nqjfKyOhbut90YlAQ9vazT87cFjhjGhznNaGtJJJaJAATJUOdDDWvIbVdINIZWrVgKsgBMzmizjb6jHPlFrnugwXMiRmuNYTJEASALnyPdVvJsstIy6LRwwSE3OcaznHWe6cqzvAWXAAAWBYVD8iwIUSLFYwCJEcaxOkLZOMgTITJnYvQ6Jk9VvujFXlJv0kvLMobrHstxxcn524LFgVHl1VrTVk06Mi1wLpggiY2d0ir+hbut90YKFmfVB1h2Tj1U55vxVJgtrDRbqn1R1U5gt3W+6MUEu1h344ph+mKqdBbMaLdvqjFMILd1uz1Qgl4tbxz3Cpll+eCqfCbNui2/dA9Qqzo24N8Bgg+a85Y/2yl9hv9Ri5oXSvnJYB5MpcgNRuwD5xi5qUrfH0EIQsqEIQgEIQgEzLxxSpmXjig66ZcOAwxUjm7NIyG2Qs2DbmpENuH38VtzTD1R2RhuqTzdkq4cNtUWeqNvVTGG3D7+CCuhan134b5V/OzErEocNtS7137euVkdG3D78ygpiwOkY5ky0OcJylMgGZHeBLvVfyItaxrXTMN9dtYA6MiKplg1xAOQV8OG22z1sU/Rtw+/JTGpz5SZPTBh0R0OuYZaXxHucS4CTZtrWSOrWM5dZ2M1NIorzF6RtSo1tYAyJe9oc1g2aOmTxWYyGJu7WMtgUhgz97NXGvku7/hj0SAWPiOJBdEc2IZXNk2oAJ9Vg7yVlc7MFW1grG+5u3NyaoM/eyRjlbbtB1h2Th1Ux5uxVZYKwv1T63ZTFgz97NES7WHfhipH6YJHMExft9bNSGDPZ6yIH3t45bhTc7MFW9gm2+/HqFNUGficEV835yv4ZS+w3D2jFzQulfOS0f6ZS+w3aT84xc1KVvj6CEIWVCEIQCEIQCZl44pUzLxxQddNNg4DvTDv+/NeTD8gQRF+UDpekczoyelikFpcDtdZaBdIfcsseT2YxftY3xrbmyYeqOyMd1Meb8lhw/J7Koti3D52Nh21J8nsxi/axsuugsoWp9d+O+VfztxK86h0BlS+Jrv8AnY2+eusgUFmMX7WN8aC6Ht7WafnbgsSHQW22xdb2sb41PyFuMX7WNh20GQ293azwCYc34rEbQmTdbF1vaxsB10woTMY32sXHtoLm6x4Nxxcn524LEbQm1jbFub85Fxd103yJmMX7WLh20Fx1h2Tj1U55vxWGaE2sLYuqfnIvV66sNDbjF+0i49tBc7WHfjimH6YrFdRGzFsXb85Fx7aYURuMXZ85F+NBa+9vHPcKwfLMOO9rBRnVHVwXumBoVZOaAWmbiDo7AQCZykbn0NujbFv9pF3D103yJuMb7SLh20Hg+cr+GUu/Ubj7Ri5oXQv7deRmUfyfTojHx3OiCuQ+I9zAXRWkyZOr3kE4klc9LNb4+ghCFFCEIQCEIQCZl44pUzLxxQddMFg4D81IHPilY2waRuGxuPBSGHePg3PJbc0Qxojsj+VNLnwVcNpqjSOqNjd3gnLOsfBuWSCqhjQ+vE/nKvlz3lYtDaamsdeJsbvnJZFQ7x8G48EEQxf2k0ue5Vw236R1sG/onqHePg3Dgghotd2v7NTgc9/FVNYZu0jrdTAZJqh3nfgx7KAaNI8G/m7NNLnu4qprDWOk65u5i7qp6h3nfgw7KAI0h2T/AI5piOe/iqiw1hpO1TudXqpyw7zvwY9lBLhpDv8Az4qQP7c3qtzDMaTtu5j2UwYd52zc+FAPFreP+BTc3DBVPYZt0nX9TcPVT1DvO/Bh2UHzXnL/AIZS/wD62/1GLmldKeclp/0yl6ROg3d9ozALmtStcfQQhCy0EIQgEIQgEzLxxSqQZIOu2XDgMMVI5uzWjR546YPmaNZk/wCJHpjpnsaN4P8AiW9jHWt4w9UdkYbqkm//AKtuWjG+eKmAS6GjWCVz8Jbyb0yUz2NG8H/EpsOtbh8h09lIhdJDJcwveAS0smQ8zscAbDZxBXo87MStEUfzuUqG2oyBRg2bnSk+9zi53rYkq30yUz2NG8H/ABJp1rd8Pb2sk3OzBaNb54qYPmaNaZ+v8SPTHTPY0bwf8SbDrW8G3u7WWAT87MVoz0x0y3/w0W0zuicN/JHpkpnsaL4RPjV2HWt4N1jwbhi5NzswWjB54qZOfQ0XYLomyfXzKn0yUz2NF8InxpsOtbwOsOycOqmPN2K0b6YqZOfQ0W6V0TbLr5I9MlM9jRfCJ8abDrW8Xaw78MVI/TBaN9MdMv6Gi2ZRPjR6ZKZ7Gi+ET402HWt4Pvbx/wACm5vyWjT54qZZ/wCGi2W3RMJb+aPTJTPYUTwifGmw61szzlfwyl9hu3/kYuaF955d859JptHiUWJCo4ZGAa4tDw4ScHWTcRe0L4NZrUmBCEKKEIQgEIQgEIQgEIQgEIWRAgF8rQATK02mVpl3IMdCcMJaXWSFmamFYZ7on37PvkgrkiSyix1gDiTVDjMyABtvngZqpjnOMgXEnMoKpIkr21jO02XzMpc/3CYAyrVnXG8ytErL7bwgxpIksiIHABxcZOzmnexwJAcTVJBMyLQCTLKxBiSRJWsL3XFxkJ37EwrSrVjKRN52ED8ygokhZTwas6xILQQCZTmS0iU8isVAIQhAIQhAIQhAIQhAIQhAIQhAIQhAK1kZzRIGQM8NokeCqQgFaYk2y22TOIFw5wCqQgt6d1kjKQlxGBxSxHAykJSEuOaRCB2xCAQDIG/PipixS7AATkBZKZmq0ICayPlJkRZpWE/dwnmsdCB4hBMwJDnBWNjkANkKs5nO2cuCoQgd7yZT2CQ2SCRCEAhCEAhCEAhCEAhCEH//2Q==\" alt=\"Trulli\" width=\"500\" height=\"333\">"
   ]
  },
  {
   "cell_type": "code",
   "execution_count": 22,
   "id": "40e97e2b",
   "metadata": {},
   "outputs": [
    {
     "name": "stdout",
     "output_type": "stream",
     "text": [
      "Enter first coordinate x1 1\n",
      "Enter first coordinate x2 2\n",
      "Enter first coordinate y1 3\n",
      "Enter first coordinate y2 4\n",
      "1.4142135623730951\n"
     ]
    }
   ],
   "source": [
    "x1=int(input('Enter first coordinate x1 '))\n",
    "x2=int(input('Enter first coordinate x2 '))\n",
    "y1=int(input('Enter first coordinate y1 '))\n",
    "y2=int(input('Enter first coordinate y2 '))\n",
    "m=((x2-x1)**2)+((y2-y1)**2)\n",
    "d=m**(1/2)\n",
    "print(d)"
   ]
  },
  {
   "cell_type": "markdown",
   "id": "efa0c272",
   "metadata": {},
   "source": [
    "# 9.\tWrite a program that take a user inputr of three angles and will find out whether it can form a triangle or not.\n",
    "\n",
    "<img src=\"https://media.geeksforgeeks.org/wp-content/uploads/20190717210759/valid1.png\" alt=\"Trulli\" width=\"500\" height=\"333\">"
   ]
  },
  {
   "cell_type": "code",
   "execution_count": 26,
   "id": "31bd895f",
   "metadata": {},
   "outputs": [
    {
     "name": "stdout",
     "output_type": "stream",
     "text": [
      "Enter First angle 120\n",
      "Enter Second angle 20\n",
      "Enter Third angle 40\n",
      "Given angles form a triangle \n"
     ]
    }
   ],
   "source": [
    "a=float(input('Enter First angle '))\n",
    "b=float(input('Enter Second angle '))\n",
    "c=float(input('Enter Third angle '))\n",
    "sum=a+b+c\n",
    "if sum==180:\n",
    "    print('Given angles form a triangle ')\n",
    "else:\n",
    "    print('Not forming a triangle ')"
   ]
  },
  {
   "cell_type": "markdown",
   "id": "9fc48aa8",
   "metadata": {},
   "source": [
    "# 10.\tWrite a program that will take user input of cost price and selling price and determines whether its a loss or a profit"
   ]
  },
  {
   "cell_type": "code",
   "execution_count": 34,
   "id": "074f7a83",
   "metadata": {},
   "outputs": [
    {
     "name": "stdout",
     "output_type": "stream",
     "text": [
      "Enter cost price of the product 200\n",
      "Enter selling price of the product 100\n",
      "Its a Loss -100 Rs\n"
     ]
    }
   ],
   "source": [
    "cp=int(input('Enter cost price of the product '))\n",
    "sp=int(input('Enter selling price of the product '))\n",
    "if (sp-cp)>0:\n",
    "    print('Its profit of ',(sp-cp),'Rs')\n",
    "else:\n",
    "    print('Its a Loss',(sp-cp),'Rs')\n",
    "\n"
   ]
  },
  {
   "cell_type": "code",
   "execution_count": null,
   "id": "e04046a3",
   "metadata": {},
   "outputs": [],
   "source": []
  },
  {
   "cell_type": "code",
   "execution_count": null,
   "id": "f4b3be98",
   "metadata": {},
   "outputs": [],
   "source": []
  },
  {
   "cell_type": "code",
   "execution_count": null,
   "id": "dd68b662",
   "metadata": {},
   "outputs": [],
   "source": []
  }
 ],
 "metadata": {
  "kernelspec": {
   "display_name": "Python 3 (ipykernel)",
   "language": "python",
   "name": "python3"
  },
  "language_info": {
   "codemirror_mode": {
    "name": "ipython",
    "version": 3
   },
   "file_extension": ".py",
   "mimetype": "text/x-python",
   "name": "python",
   "nbconvert_exporter": "python",
   "pygments_lexer": "ipython3",
   "version": "3.9.12"
  }
 },
 "nbformat": 4,
 "nbformat_minor": 5
}
